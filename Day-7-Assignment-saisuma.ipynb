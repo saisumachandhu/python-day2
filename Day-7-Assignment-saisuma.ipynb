{
 "cells": [
  {
   "cell_type": "markdown",
   "metadata": {},
   "source": [
    "# Question-1   Using the dictionary, port1 = {21: \"FTP\", 22:\"SSH\", 23: \"telnet\", 80: \"http\"}, and making a new dictionary in which keys become values and values become keys, as shown: Port2 = {“FTP\":21, \"SSH\":22, “telnet\":23,\"http\":80}"
   ]
  },
  {
   "cell_type": "code",
   "execution_count": 4,
   "metadata": {},
   "outputs": [
    {
     "name": "stdout",
     "output_type": "stream",
     "text": [
      "The first dict:\n",
      "{21: 'FTP', 22: 'SSH', 23: 'telnet', 80: 'http'}\n",
      "Dictionary where keys are values and values are keys: \n",
      "keys  : values\n",
      "FTP  : [21]\n",
      "SSH  : [22]\n",
      "telnet  : [23]\n",
      "http  : [80]\n"
     ]
    }
   ],
   "source": [
    "port1 = {21:\"FTP\",22:\"SSH\",23:\"telnet\",80:\"http\"}\n",
    "print(\"The first dict:\")\n",
    "print(port1) \n",
    "port2 = {} \n",
    "for key, value in port1.items(): \n",
    "    if value in port2: \n",
    "        port2[value].append(key) \n",
    "    else: \n",
    "        port2[value]=[key] \n",
    "print (\"Dictionary where keys are values and values are keys: \")  \n",
    "print(\"keys  : values\") \n",
    "for i in port2: \n",
    "    print(i, \" :\", port2[i]) "
   ]
  },
  {
   "cell_type": "markdown",
   "metadata": {},
   "source": [
    "# Question2-Take a list of tuple as shown below.[(1,2), (3,4), (5,6),(4,5)]Make a new list which contains sum of number of tuples. "
   ]
  },
  {
   "cell_type": "code",
   "execution_count": 7,
   "metadata": {},
   "outputs": [
    {
     "name": "stdout",
     "output_type": "stream",
     "text": [
      "The added elements in a list: [3, 7, 11, 9]\n"
     ]
    }
   ],
   "source": [
    "list1=[(1,2),(3,4),(5,6),(4,5)]\n",
    "list2=[]\n",
    "for each in range(0,len(list1)):\n",
    "    a,b=list1[each]\n",
    "    list2.append(a+b)\n",
    "print(\"The added elements in a list:\",list2)"
   ]
  },
  {
   "cell_type": "markdown",
   "metadata": {},
   "source": [
    "# question-3:[(1,2,3), [1,2], ['a','hit','less']]The List contains tuple and lists. Make the elements of inner lists and tuples to outer list"
   ]
  },
  {
   "cell_type": "code",
   "execution_count": 26,
   "metadata": {},
   "outputs": [
    {
     "name": "stdout",
     "output_type": "stream",
     "text": [
      "[1, 2, 3, 1, 2, 'a', 'hit', 'less']\n"
     ]
    }
   ],
   "source": [
    "\n",
    "listandtuple=[(1,2,3), [1,2], ['a','hit','less']] \n",
    "out = [item for t in listandtuple for item in t] \n",
    "print(out) "
   ]
  },
  {
   "cell_type": "code",
   "execution_count": null,
   "metadata": {},
   "outputs": [],
   "source": []
  }
 ],
 "metadata": {
  "kernelspec": {
   "display_name": "Python 3",
   "language": "python",
   "name": "python3"
  },
  "language_info": {
   "codemirror_mode": {
    "name": "ipython",
    "version": 3
   },
   "file_extension": ".py",
   "mimetype": "text/x-python",
   "name": "python",
   "nbconvert_exporter": "python",
   "pygments_lexer": "ipython3",
   "version": "3.7.6"
  }
 },
 "nbformat": 4,
 "nbformat_minor": 4
}
